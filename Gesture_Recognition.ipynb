{
 "cells": [
  {
   "cell_type": "code",
   "execution_count": 2,
   "metadata": {},
   "outputs": [
    {
     "name": "stdout",
     "output_type": "stream",
     "text": [
      "Requirement already satisfied: tensorflow==2.4.1 in c:\\users\\itsme\\anaconda3\\lib\\site-packages (2.4.1)\n",
      "Requirement already satisfied: tensorflow-gpu==2.4.1 in c:\\users\\itsme\\anaconda3\\lib\\site-packages (2.4.1)\n",
      "Requirement already satisfied: opencv-python in c:\\users\\itsme\\anaconda3\\lib\\site-packages (4.6.0.66)\n",
      "Requirement already satisfied: mediapipe in c:\\users\\itsme\\anaconda3\\lib\\site-packages (0.8.11)\n",
      "Requirement already satisfied: sklearn in c:\\users\\itsme\\anaconda3\\lib\\site-packages (0.0)\n",
      "Requirement already satisfied: matplotlib in c:\\users\\itsme\\anaconda3\\lib\\site-packages (3.2.2)\n",
      "Requirement already satisfied: tensorflow-estimator<2.5.0,>=2.4.0 in c:\\users\\itsme\\anaconda3\\lib\\site-packages (from tensorflow==2.4.1) (2.4.0)\n",
      "Requirement already satisfied: absl-py~=0.10 in c:\\users\\itsme\\anaconda3\\lib\\site-packages (from tensorflow==2.4.1) (0.15.0)\n",
      "Requirement already satisfied: google-pasta~=0.2 in c:\\users\\itsme\\anaconda3\\lib\\site-packages (from tensorflow==2.4.1) (0.2.0)\n",
      "Requirement already satisfied: tensorboard~=2.4 in c:\\users\\itsme\\anaconda3\\lib\\site-packages (from tensorflow==2.4.1) (2.9.1)\n",
      "Requirement already satisfied: typing-extensions~=3.7.4 in c:\\users\\itsme\\anaconda3\\lib\\site-packages (from tensorflow==2.4.1) (3.7.4.3)\n",
      "Requirement already satisfied: astunparse~=1.6.3 in c:\\users\\itsme\\anaconda3\\lib\\site-packages (from tensorflow==2.4.1) (1.6.3)\n",
      "Requirement already satisfied: opt-einsum~=3.3.0 in c:\\users\\itsme\\anaconda3\\lib\\site-packages (from tensorflow==2.4.1) (3.3.0)\n",
      "Requirement already satisfied: grpcio~=1.32.0 in c:\\users\\itsme\\anaconda3\\lib\\site-packages (from tensorflow==2.4.1) (1.32.0)\n",
      "Requirement already satisfied: h5py~=2.10.0 in c:\\users\\itsme\\anaconda3\\lib\\site-packages (from tensorflow==2.4.1) (2.10.0)\n",
      "Requirement already satisfied: wheel~=0.35 in c:\\users\\itsme\\anaconda3\\lib\\site-packages (from tensorflow==2.4.1) (0.37.1)\n",
      "Requirement already satisfied: gast==0.3.3 in c:\\users\\itsme\\anaconda3\\lib\\site-packages (from tensorflow==2.4.1) (0.3.3)\n",
      "Requirement already satisfied: wrapt~=1.12.1 in c:\\users\\itsme\\anaconda3\\lib\\site-packages (from tensorflow==2.4.1) (1.12.1)\n",
      "Requirement already satisfied: termcolor~=1.1.0 in c:\\users\\itsme\\anaconda3\\lib\\site-packages (from tensorflow==2.4.1) (1.1.0)\n",
      "Requirement already satisfied: six~=1.15.0 in c:\\users\\itsme\\anaconda3\\lib\\site-packages (from tensorflow==2.4.1) (1.15.0)\n",
      "Requirement already satisfied: protobuf>=3.9.2 in c:\\users\\itsme\\anaconda3\\lib\\site-packages (from tensorflow==2.4.1) (3.19.4)\n",
      "Requirement already satisfied: flatbuffers~=1.12.0 in c:\\users\\itsme\\anaconda3\\lib\\site-packages (from tensorflow==2.4.1) (1.12)\n",
      "Requirement already satisfied: numpy~=1.19.2 in c:\\users\\itsme\\anaconda3\\lib\\site-packages (from tensorflow==2.4.1) (1.19.5)\n",
      "Requirement already satisfied: keras-preprocessing~=1.1.2 in c:\\users\\itsme\\anaconda3\\lib\\site-packages (from tensorflow==2.4.1) (1.1.2)\n",
      "Requirement already satisfied: opencv-contrib-python in c:\\users\\itsme\\anaconda3\\lib\\site-packages (from mediapipe) (4.6.0.66)\n",
      "Requirement already satisfied: attrs>=19.1.0 in c:\\users\\itsme\\anaconda3\\lib\\site-packages (from mediapipe) (19.3.0)\n",
      "Requirement already satisfied: scikit-learn in c:\\users\\itsme\\anaconda3\\lib\\site-packages (from sklearn) (0.23.1)\n",
      "Requirement already satisfied: pyparsing!=2.0.4,!=2.1.2,!=2.1.6,>=2.0.1 in c:\\users\\itsme\\anaconda3\\lib\\site-packages (from matplotlib) (2.4.7)\n",
      "Requirement already satisfied: kiwisolver>=1.0.1 in c:\\users\\itsme\\anaconda3\\lib\\site-packages (from matplotlib) (1.2.0)\n",
      "Requirement already satisfied: cycler>=0.10 in c:\\users\\itsme\\anaconda3\\lib\\site-packages (from matplotlib) (0.10.0)\n",
      "Requirement already satisfied: python-dateutil>=2.1 in c:\\users\\itsme\\anaconda3\\lib\\site-packages (from matplotlib) (2.8.1)\n",
      "Requirement already satisfied: werkzeug>=1.0.1 in c:\\users\\itsme\\anaconda3\\lib\\site-packages (from tensorboard~=2.4->tensorflow==2.4.1) (1.0.1)\n",
      "Requirement already satisfied: tensorboard-plugin-wit>=1.6.0 in c:\\users\\itsme\\anaconda3\\lib\\site-packages (from tensorboard~=2.4->tensorflow==2.4.1) (1.8.1)\n",
      "Requirement already satisfied: google-auth<3,>=1.6.3 in c:\\users\\itsme\\anaconda3\\lib\\site-packages (from tensorboard~=2.4->tensorflow==2.4.1) (2.11.0)\n",
      "Requirement already satisfied: markdown>=2.6.8 in c:\\users\\itsme\\anaconda3\\lib\\site-packages (from tensorboard~=2.4->tensorflow==2.4.1) (3.4.1)\n",
      "Requirement already satisfied: google-auth-oauthlib<0.5,>=0.4.1 in c:\\users\\itsme\\anaconda3\\lib\\site-packages (from tensorboard~=2.4->tensorflow==2.4.1) (0.4.6)\n",
      "Requirement already satisfied: tensorboard-data-server<0.7.0,>=0.6.0 in c:\\users\\itsme\\anaconda3\\lib\\site-packages (from tensorboard~=2.4->tensorflow==2.4.1) (0.6.1)\n",
      "Requirement already satisfied: requests<3,>=2.21.0 in c:\\users\\itsme\\anaconda3\\lib\\site-packages (from tensorboard~=2.4->tensorflow==2.4.1) (2.24.0)\n",
      "Requirement already satisfied: setuptools>=41.0.0 in c:\\users\\itsme\\anaconda3\\lib\\site-packages (from tensorboard~=2.4->tensorflow==2.4.1) (49.2.0.post20200714)\n",
      "Requirement already satisfied: scipy>=0.19.1 in c:\\users\\itsme\\anaconda3\\lib\\site-packages (from scikit-learn->sklearn) (1.5.0)\n",
      "Requirement already satisfied: joblib>=0.11 in c:\\users\\itsme\\anaconda3\\lib\\site-packages (from scikit-learn->sklearn) (0.16.0)\n",
      "Requirement already satisfied: threadpoolctl>=2.0.0 in c:\\users\\itsme\\anaconda3\\lib\\site-packages (from scikit-learn->sklearn) (2.1.0)\n",
      "Requirement already satisfied: cachetools<6.0,>=2.0.0 in c:\\users\\itsme\\anaconda3\\lib\\site-packages (from google-auth<3,>=1.6.3->tensorboard~=2.4->tensorflow==2.4.1) (5.2.0)\n",
      "Requirement already satisfied: pyasn1-modules>=0.2.1 in c:\\users\\itsme\\anaconda3\\lib\\site-packages (from google-auth<3,>=1.6.3->tensorboard~=2.4->tensorflow==2.4.1) (0.2.8)\n",
      "Requirement already satisfied: rsa<5,>=3.1.4; python_version >= \"3.6\" in c:\\users\\itsme\\anaconda3\\lib\\site-packages (from google-auth<3,>=1.6.3->tensorboard~=2.4->tensorflow==2.4.1) (4.9)\n",
      "Requirement already satisfied: importlib-metadata>=4.4; python_version < \"3.10\" in c:\\users\\itsme\\anaconda3\\lib\\site-packages (from markdown>=2.6.8->tensorboard~=2.4->tensorflow==2.4.1) (4.12.0)\n",
      "Requirement already satisfied: requests-oauthlib>=0.7.0 in c:\\users\\itsme\\anaconda3\\lib\\site-packages (from google-auth-oauthlib<0.5,>=0.4.1->tensorboard~=2.4->tensorflow==2.4.1) (1.3.1)\n",
      "Requirement already satisfied: chardet<4,>=3.0.2 in c:\\users\\itsme\\anaconda3\\lib\\site-packages (from requests<3,>=2.21.0->tensorboard~=2.4->tensorflow==2.4.1) (3.0.4)\n",
      "Requirement already satisfied: certifi>=2017.4.17 in c:\\users\\itsme\\anaconda3\\lib\\site-packages (from requests<3,>=2.21.0->tensorboard~=2.4->tensorflow==2.4.1) (2020.6.20)\n",
      "Requirement already satisfied: idna<3,>=2.5 in c:\\users\\itsme\\anaconda3\\lib\\site-packages (from requests<3,>=2.21.0->tensorboard~=2.4->tensorflow==2.4.1) (2.10)\n",
      "Requirement already satisfied: urllib3!=1.25.0,!=1.25.1,<1.26,>=1.21.1 in c:\\users\\itsme\\anaconda3\\lib\\site-packages (from requests<3,>=2.21.0->tensorboard~=2.4->tensorflow==2.4.1) (1.25.9)\n",
      "Requirement already satisfied: pyasn1<0.5.0,>=0.4.6 in c:\\users\\itsme\\anaconda3\\lib\\site-packages (from pyasn1-modules>=0.2.1->google-auth<3,>=1.6.3->tensorboard~=2.4->tensorflow==2.4.1) (0.4.8)\n",
      "Requirement already satisfied: zipp>=0.5 in c:\\users\\itsme\\anaconda3\\lib\\site-packages (from importlib-metadata>=4.4; python_version < \"3.10\"->markdown>=2.6.8->tensorboard~=2.4->tensorflow==2.4.1) (3.1.0)\n",
      "Requirement already satisfied: oauthlib>=3.0.0 in c:\\users\\itsme\\anaconda3\\lib\\site-packages (from requests-oauthlib>=0.7.0->google-auth-oauthlib<0.5,>=0.4.1->tensorboard~=2.4->tensorflow==2.4.1) (3.2.0)\n"
     ]
    }
   ],
   "source": [
    "!pip install tensorflow==2.4.1 tensorflow-gpu==2.4.1 opencv-python mediapipe sklearn matplotlib"
   ]
  },
  {
   "cell_type": "code",
   "execution_count": 3,
   "metadata": {},
   "outputs": [],
   "source": [
    "import cv2\n",
    "import numpy as np\n",
    "import os\n",
    "from matplotlib import pyplot as plt\n",
    "import time\n",
    "import mediapipe as mp"
   ]
  },
  {
   "cell_type": "code",
   "execution_count": 4,
   "metadata": {},
   "outputs": [],
   "source": [
    "mp_holistic = mp.solutions.holistic # Holistic model\n",
    "mp_drawing = mp.solutions.drawing_utils # Drawing utilities"
   ]
  },
  {
   "cell_type": "code",
   "execution_count": 5,
   "metadata": {},
   "outputs": [],
   "source": [
    "def mediapipe_detection(image, model):\n",
    "    image = cv2.cvtColor(image, cv2.COLOR_BGR2RGB) # COLOR CONVERSION BGR 2 RGB\n",
    "    image.flags.writeable = False                  # Image is no longer writeable\n",
    "    results = model.process(image)                 # Make prediction\n",
    "    image.flags.writeable = True                   # Image is now writeable \n",
    "    image = cv2.cvtColor(image, cv2.COLOR_RGB2BGR) # COLOR COVERSION RGB 2 BGR\n",
    "    return image, results"
   ]
  },
  {
   "cell_type": "code",
   "execution_count": 6,
   "metadata": {},
   "outputs": [],
   "source": [
    "def draw_landmarks(image, results):\n",
    "    mp_drawing.draw_landmarks(image, results.face_landmarks, mp_holistic.FACEMESH_CONTOURS) # Draw face connections\n",
    "    mp_drawing.draw_landmarks(image, results.pose_landmarks, mp_holistic.POSE_CONNECTIONS) # Draw pose connections\n",
    "    mp_drawing.draw_landmarks(image, results.left_hand_landmarks, mp_holistic.HAND_CONNECTIONS) # Draw left hand connections\n",
    "    mp_drawing.draw_landmarks(image, results.right_hand_landmarks, mp_holistic.HAND_CONNECTIONS) # Draw right hand connections"
   ]
  },
  {
   "cell_type": "code",
   "execution_count": 7,
   "metadata": {},
   "outputs": [],
   "source": [
    "def draw_styled_landmarks(image, results):\n",
    "    # Draw face connections\n",
    "    mp_drawing.draw_landmarks(image, results.face_landmarks, mp_holistic.FACEMESH_CONTOURS, \n",
    "                             mp_drawing.DrawingSpec(color=(80,110,10), thickness=1, circle_radius=1), \n",
    "                             mp_drawing.DrawingSpec(color=(80,256,121), thickness=1, circle_radius=1)\n",
    "                             ) \n",
    "    # Draw pose connections\n",
    "    mp_drawing.draw_landmarks(image, results.pose_landmarks, mp_holistic.POSE_CONNECTIONS,\n",
    "                             mp_drawing.DrawingSpec(color=(80,22,10), thickness=2, circle_radius=4), \n",
    "                             mp_drawing.DrawingSpec(color=(80,44,121), thickness=2, circle_radius=2)\n",
    "                             ) \n",
    "    # Draw left hand connections\n",
    "    mp_drawing.draw_landmarks(image, results.left_hand_landmarks, mp_holistic.HAND_CONNECTIONS, \n",
    "                             mp_drawing.DrawingSpec(color=(121,22,76), thickness=2, circle_radius=4), \n",
    "                             mp_drawing.DrawingSpec(color=(121,44,250), thickness=2, circle_radius=2)\n",
    "                             ) \n",
    "    # Draw right hand connections  \n",
    "    mp_drawing.draw_landmarks(image, results.right_hand_landmarks, mp_holistic.HAND_CONNECTIONS, \n",
    "                             mp_drawing.DrawingSpec(color=(245,117,66), thickness=2, circle_radius=4), \n",
    "                             mp_drawing.DrawingSpec(color=(245,66,230), thickness=2, circle_radius=2)\n",
    "                             ) "
   ]
  },
  {
   "cell_type": "code",
   "execution_count": 12,
   "metadata": {},
   "outputs": [
    {
     "name": "stdout",
     "output_type": "stream",
     "text": [
      "<class 'mediapipe.python.solution_base.SolutionOutputs'>\n",
      "<class 'mediapipe.python.solution_base.SolutionOutputs'>\n",
      "<class 'mediapipe.python.solution_base.SolutionOutputs'>\n",
      "<class 'mediapipe.python.solution_base.SolutionOutputs'>\n",
      "<class 'mediapipe.python.solution_base.SolutionOutputs'>\n",
      "<class 'mediapipe.python.solution_base.SolutionOutputs'>\n",
      "<class 'mediapipe.python.solution_base.SolutionOutputs'>\n",
      "<class 'mediapipe.python.solution_base.SolutionOutputs'>\n",
      "<class 'mediapipe.python.solution_base.SolutionOutputs'>\n",
      "<class 'mediapipe.python.solution_base.SolutionOutputs'>\n",
      "<class 'mediapipe.python.solution_base.SolutionOutputs'>\n",
      "<class 'mediapipe.python.solution_base.SolutionOutputs'>\n",
      "<class 'mediapipe.python.solution_base.SolutionOutputs'>\n",
      "<class 'mediapipe.python.solution_base.SolutionOutputs'>\n"
     ]
    }
   ],
   "source": [
    "cap = cv2.VideoCapture(0)\n",
    "# Set mediapipe model \n",
    "with mp_holistic.Holistic(min_detection_confidence=0.5, min_tracking_confidence=0.5) as holistic:\n",
    "    while cap.isOpened():\n",
    "\n",
    "        # Read feed\n",
    "        ret, frame = cap.read()\n",
    "\n",
    "        # Make detections\n",
    "        image, results = mediapipe_detection(frame, holistic)\n",
    "        print(results)\n",
    "        \n",
    "        # Draw landmarks\n",
    "        draw_styled_landmarks(image, results)\n",
    "\n",
    "        # Show to screen\n",
    "        cv2.imshow('OpenCV Feed', image)\n",
    "\n",
    "        # Break gracefully\n",
    "        if cv2.waitKey(10) & 0xFF == ord('q'):\n",
    "            break\n",
    "    cap.release()\n",
    "    cv2.destroyAllWindows()"
   ]
  },
  {
   "cell_type": "code",
   "execution_count": 13,
   "metadata": {},
   "outputs": [],
   "source": [
    "draw_styled_landmarks(frame, results)\n"
   ]
  },
  {
   "cell_type": "code",
   "execution_count": 14,
   "metadata": {},
   "outputs": [
    {
     "data": {
      "text/plain": [
       "<matplotlib.image.AxesImage at 0x22f000cd190>"
      ]
     },
     "execution_count": 14,
     "metadata": {},
     "output_type": "execute_result"
    },
    {
     "data": {
      "image/png": "[encoded data removed]",
      "text/plain": [
       "<Figure size 432x288 with 1 Axes>"
      ]
     },
     "metadata": {
      "needs_background": "light"
     },
     "output_type": "display_data"
    }
   ],
   "source": [
    "plt.imshow(cv2.cvtColor(frame, cv2.COLOR_BGR2RGB))"
   ]
  },
  {
   "cell_type": "code",
   "execution_count": 15,
   "metadata": {},
   "outputs": [
    {
     "data": {
      "text/plain": [
       "21"
      ]
     },
     "execution_count": 15,
     "metadata": {},
     "output_type": "execute_result"
    }
   ],
   "source": [
    "len(results.left_hand_landmarks.landmark)"
   ]
  },
  {
   "cell_type": "code",
   "execution_count": 16,
   "metadata": {},
   "outputs": [],
   "source": [
    "pose = []\n",
    "for res in results.pose_landmarks.landmark:\n",
    "    test = np.array([res.x, res.y, res.z, res.visibility])\n",
    "    pose.append(test)"
   ]
  },
  {
   "cell_type": "code",
   "execution_count": 17,
   "metadata": {},
   "outputs": [],
   "source": [
    "pose = np.array([[res.x, res.y, res.z, res.visibility] for res in results.pose_landmarks.landmark]).flatten() if results.pose_landmarks else np.zeros(132)\n",
    "face = np.array([[res.x, res.y, res.z] for res in results.face_landmarks.landmark]).flatten() if results.face_landmarks else np.zeros(1404)\n",
    "lh = np.array([[res.x, res.y, res.z] for res in results.left_hand_landmarks.landmark]).flatten() if results.left_hand_landmarks else np.zeros(21*3)\n",
    "rh = np.array([[res.x, res.y, res.z] for res in results.right_hand_landmarks.landmark]).flatten() if results.right_hand_landmarks else np.zeros(21*3)"
   ]
  },
  {
   "cell_type": "code",
   "execution_count": 18,
   "metadata": {},
   "outputs": [],
   "source": [
    "def extract_keypoints(results):\n",
    "    pose = np.array([[res.x, res.y, res.z, res.visibility] for res in results.pose_landmarks.landmark]).flatten() if results.pose_landmarks else np.zeros(33*4)\n",
    "    face = np.array([[res.x, res.y, res.z] for res in results.face_landmarks.landmark]).flatten() if results.face_landmarks else np.zeros(468*3)\n",
    "    lh = np.array([[res.x, res.y, res.z] for res in results.left_hand_landmarks.landmark]).flatten() if results.left_hand_landmarks else np.zeros(21*3)\n",
    "    rh = np.array([[res.x, res.y, res.z] for res in results.right_hand_landmarks.landmark]).flatten() if results.right_hand_landmarks else np.zeros(21*3)\n",
    "    return np.concatenate([pose, face, lh, rh])"
   ]
  },
  {
   "cell_type": "code",
   "execution_count": 19,
   "metadata": {},
   "outputs": [],
   "source": [
    "result_test = extract_keypoints(results)"
   ]
  },
  {
   "cell_type": "code",
   "execution_count": null,
   "metadata": {},
   "outputs": [],
   "source": []
  },
  {
   "cell_type": "code",
   "execution_count": null,
   "metadata": {},
   "outputs": [],
   "source": []
  },
  {
   "cell_type": "code",
   "execution_count": 20,
   "metadata": {},
   "outputs": [],
   "source": [
    "# Path for exported data, numpy arrays\n",
    "DATA_PATH = os.path.join('MP_Data') \n",
    "\n",
    "# Actions that we try to detect\n",
    "actions = np.array(['drone_left','drone_right','drone_stable'])\n",
    "\n",
    "# Thirty videos worth of data\n",
    "no_sequences = 30\n",
    "\n",
    "# Videos are going to be 30 frames in length\n",
    "sequence_length = 30\n",
    "\n",
    "# Folder start\n",
    "start_folder = 30"
   ]
  },
  {
   "cell_type": "code",
   "execution_count": 21,
   "metadata": {},
   "outputs": [],
   "source": [
    "for action in actions: \n",
    "    for sequence in range(no_sequences):\n",
    "        try: \n",
    "            os.makedirs(os.path.join(DATA_PATH, action, str(sequence)))\n",
    "        except:\n",
    "            pass"
   ]
  },
  {
   "cell_type": "code",
   "execution_count": 22,
   "metadata": {},
   "outputs": [],
   "source": [
    "cap = cv2.VideoCapture(0)\n",
    "# Set mediapipe model \n",
    "with mp_holistic.Holistic(min_detection_confidence=0.5, min_tracking_confidence=0.5) as holistic:\n",
    "    \n",
    "    # NEW LOOP\n",
    "    # Loop through actions\n",
    "    for action in actions:\n",
    "        # Loop through sequences aka videos\n",
    "        for sequence in range(no_sequences):\n",
    "            # Loop through video length aka sequence length\n",
    "            for frame_num in range(sequence_length):\n",
    "\n",
    "                # Read feed\n",
    "                ret, frame = cap.read()\n",
    "\n",
    "                # Make detections\n",
    "                image, results = mediapipe_detection(frame, holistic)\n",
    "\n",
    "                # Draw landmarks\n",
    "                draw_styled_landmarks(image, results)\n",
    "                \n",
    "                # NEW Apply wait logic\n",
    "                if frame_num == 0: \n",
    "                    cv2.putText(image, 'STARTING COLLECTION', (120,200), \n",
    "                               cv2.FONT_HERSHEY_SIMPLEX, 1, (0,255, 0), 4, cv2.LINE_AA)\n",
    "                    cv2.putText(image, 'Collecting frames for {} Video Number {}'.format(action, sequence), (15,12), \n",
    "                               cv2.FONT_HERSHEY_SIMPLEX, 0.5, (0, 0, 255), 1, cv2.LINE_AA)\n",
    "                    # Show to screen\n",
    "                    cv2.imshow('OpenCV Feed', image)\n",
    "                    cv2.waitKey(500)\n",
    "                else: \n",
    "                    cv2.putText(image, 'Collecting frames for {} Video Number {}'.format(action, sequence), (15,12), \n",
    "                               cv2.FONT_HERSHEY_SIMPLEX, 0.5, (0, 0, 255), 1, cv2.LINE_AA)\n",
    "                    # Show to screen\n",
    "                    cv2.imshow('OpenCV Feed', image)\n",
    "                \n",
    "                # NEW Export keypoints\n",
    "                keypoints = extract_keypoints(results)\n",
    "                npy_path = os.path.join(DATA_PATH, action, str(sequence), str(frame_num))\n",
    "                np.save(npy_path, keypoints)\n",
    "\n",
    "                # Break gracefully\n",
    "                if cv2.waitKey(10) & 0xFF == ord('q'):\n",
    "                    break\n",
    "                    \n",
    "    cap.release()\n",
    "    cv2.destroyAllWindows()"
   ]
  },
  {
   "cell_type": "code",
   "execution_count": 23,
   "metadata": {},
   "outputs": [],
   "source": [
    "from sklearn.model_selection import train_test_split\n",
    "from tensorflow.keras.utils import to_categorical"
   ]
  },
  {
   "cell_type": "code",
   "execution_count": 24,
   "metadata": {},
   "outputs": [],
   "source": [
    "label_map = {label:num for num, label in enumerate(actions)}"
   ]
  },
  {
   "cell_type": "code",
   "execution_count": 25,
   "metadata": {},
   "outputs": [
    {
     "data": {
      "text/plain": [
       "{'drone_left': 0, 'drone_right': 1, 'drone_stable': 2}"
      ]
     },
     "execution_count": 25,
     "metadata": {},
     "output_type": "execute_result"
    }
   ],
   "source": [
    "label_map"
   ]
  },
  {
   "cell_type": "code",
   "execution_count": 26,
   "metadata": {},
   "outputs": [],
   "source": [
    "sequences, labels = [], []\n",
    "for action in actions:\n",
    "    for sequence in np.array(os.listdir(os.path.join(DATA_PATH, action))).astype(int):\n",
    "        window = []\n",
    "        for frame_num in range(sequence_length):\n",
    "            res = np.load(os.path.join(DATA_PATH, action, str(sequence), \"{}.npy\".format(frame_num)))\n",
    "            window.append(res)\n",
    "        sequences.append(window)\n",
    "        labels.append(label_map[action])"
   ]
  },
  {
   "cell_type": "code",
   "execution_count": 27,
   "metadata": {},
   "outputs": [],
   "source": [
    "X = np.array(sequences)"
   ]
  },
  {
   "cell_type": "code",
   "execution_count": 28,
   "metadata": {},
   "outputs": [],
   "source": [
    "y = to_categorical(labels).astype(int)"
   ]
  },
  {
   "cell_type": "code",
   "execution_count": 29,
   "metadata": {},
   "outputs": [],
   "source": [
    "X_train, X_test, y_train, y_test = train_test_split(X, y, test_size=0.05)"
   ]
  },
  {
   "cell_type": "code",
   "execution_count": 56,
   "metadata": {},
   "outputs": [],
   "source": [
    "from tensorflow.keras.models import Sequential\n",
    "from tensorflow.keras.layers import LSTM, Dense\n",
    "from tensorflow.keras.callbacks import TensorBoard"
   ]
  },
  {
   "cell_type": "code",
   "execution_count": 58,
   "metadata": {},
   "outputs": [],
   "source": [
    "log_dir = os.path.join('logs2')\n",
    "tb_callback = TensorBoard(log_dir=log_dir)"
   ]
  },
  {
   "cell_type": "code",
   "execution_count": 59,
   "metadata": {},
   "outputs": [],
   "source": [
    "model = Sequential()\n",
    "model.add(LSTM(64, return_sequences=True, activation='relu', input_shape=(30,1662)))\n",
    "model.add(LSTM(128, return_sequences=True, activation='relu'))\n",
    "model.add(LSTM(64, return_sequences=False, activation='relu'))\n",
    "model.add(Dense(64, activation='relu'))\n",
    "model.add(Dense(32, activation='relu'))\n",
    "model.add(Dense(actions.shape[0], activation='softmax'))"
   ]
  },
  {
   "cell_type": "code",
   "execution_count": 60,
   "metadata": {},
   "outputs": [],
   "source": [
    "model.compile(optimizer='Adam', loss='categorical_crossentropy', metrics=['categorical_accuracy'])"
   ]
  },
  {
   "cell_type": "code",
   "execution_count": 61,
   "metadata": {},
   "outputs": [
    {
     "name": "stdout",
     "output_type": "stream",
     "text": [
      "Epoch 1/35\n",
      "3/3 [==============================] - 6s 606ms/step - loss: 1.8243 - categorical_accuracy: 0.3092\n",
      "Epoch 2/35\n",
      "3/3 [==============================] - 0s 89ms/step - loss: 1.1275 - categorical_accuracy: 0.3641\n",
      "Epoch 3/35\n",
      "3/3 [==============================] - 0s 84ms/step - loss: 1.5206 - categorical_accuracy: 0.2720\n",
      "Epoch 4/35\n",
      "3/3 [==============================] - 0s 81ms/step - loss: 1.6263 - categorical_accuracy: 0.2056\n",
      "Epoch 5/35\n",
      "3/3 [==============================] - 0s 81ms/step - loss: 1.5179 - categorical_accuracy: 0.4011\n",
      "Epoch 6/35\n",
      "3/3 [==============================] - 0s 82ms/step - loss: 1.1096 - categorical_accuracy: 0.3268\n",
      "Epoch 7/35\n",
      "3/3 [==============================] - 0s 82ms/step - loss: 0.9135 - categorical_accuracy: 0.3268\n",
      "Epoch 8/35\n",
      "3/3 [==============================] - 0s 80ms/step - loss: 0.7281 - categorical_accuracy: 0.5421\n",
      "Epoch 9/35\n",
      "3/3 [==============================] - 0s 83ms/step - loss: 1.0370 - categorical_accuracy: 0.3483\n",
      "Epoch 10/35\n",
      "3/3 [==============================] - 0s 85ms/step - loss: 1.8229 - categorical_accuracy: 0.1313\n",
      "Epoch 11/35\n",
      "3/3 [==============================] - 0s 82ms/step - loss: 1.3117 - categorical_accuracy: 0.3502\n",
      "Epoch 12/35\n",
      "3/3 [==============================] - 0s 84ms/step - loss: 1.4494 - categorical_accuracy: 0.1430\n",
      "Epoch 13/35\n",
      "3/3 [==============================] - 0s 84ms/step - loss: 1.2518 - categorical_accuracy: 0.2976\n",
      "Epoch 14/35\n",
      "3/3 [==============================] - 0s 85ms/step - loss: 0.8070 - categorical_accuracy: 0.4676\n",
      "Epoch 15/35\n",
      "3/3 [==============================] - 0s 86ms/step - loss: 0.7157 - categorical_accuracy: 0.4776\n",
      "Epoch 16/35\n",
      "3/3 [==============================] - 0s 86ms/step - loss: 0.8497 - categorical_accuracy: 0.6673\n",
      "Epoch 17/35\n",
      "3/3 [==============================] - 0s 83ms/step - loss: 0.6604 - categorical_accuracy: 0.6947\n",
      "Epoch 18/35\n",
      "3/3 [==============================] - 0s 82ms/step - loss: 0.5465 - categorical_accuracy: 0.6165\n",
      "Epoch 19/35\n",
      "3/3 [==============================] - 0s 85ms/step - loss: 0.3808 - categorical_accuracy: 0.6928\n",
      "Epoch 20/35\n",
      "3/3 [==============================] - 0s 91ms/step - loss: 0.2608 - categorical_accuracy: 0.8748\n",
      "Epoch 21/35\n",
      "3/3 [==============================] - 0s 87ms/step - loss: 0.2735 - categorical_accuracy: 0.8670\n",
      "Epoch 22/35\n",
      "3/3 [==============================] - 0s 82ms/step - loss: 0.0755 - categorical_accuracy: 0.9941\n",
      "Epoch 23/35\n",
      "3/3 [==============================] - 0s 87ms/step - loss: 0.0877 - categorical_accuracy: 0.9824\n",
      "Epoch 24/35\n",
      "3/3 [==============================] - 0s 88ms/step - loss: 0.0084 - categorical_accuracy: 1.0000\n",
      "Epoch 25/35\n",
      "3/3 [==============================] - 0s 86ms/step - loss: 0.0084 - categorical_accuracy: 1.0000\n",
      "Epoch 26/35\n",
      "3/3 [==============================] - 0s 82ms/step - loss: 0.0012 - categorical_accuracy: 1.0000\n",
      "Epoch 27/35\n",
      "3/3 [==============================] - 0s 78ms/step - loss: 0.0477 - categorical_accuracy: 0.9941\n",
      "Epoch 28/35\n",
      "3/3 [==============================] - 0s 79ms/step - loss: 0.0157 - categorical_accuracy: 0.9882\n",
      "Epoch 29/35\n",
      "3/3 [==============================] - 0s 75ms/step - loss: 2.4067 - categorical_accuracy: 0.8962\n",
      "Epoch 30/35\n",
      "3/3 [==============================] - 0s 70ms/step - loss: 1.6327 - categorical_accuracy: 0.7025\n",
      "Epoch 31/35\n",
      "3/3 [==============================] - 0s 67ms/step - loss: 1.2583 - categorical_accuracy: 0.3522\n",
      "Epoch 32/35\n",
      "3/3 [==============================] - 0s 66ms/step - loss: 0.7268 - categorical_accuracy: 0.7104\n",
      "Epoch 33/35\n",
      "3/3 [==============================] - 0s 62ms/step - loss: 0.4090 - categorical_accuracy: 0.6888\n",
      "Epoch 34/35\n",
      "3/3 [==============================] - 0s 62ms/step - loss: 0.3766 - categorical_accuracy: 0.6791\n",
      "Epoch 35/35\n",
      "3/3 [==============================] - 0s 59ms/step - loss: 0.3342 - categorical_accuracy: 0.9120\n"
     ]
    },
    {
     "data": {
      "text/plain": [
       "<tensorflow.python.keras.callbacks.History at 0x22f141c8a90>"
      ]
     },
     "execution_count": 61,
     "metadata": {},
     "output_type": "execute_result"
    }
   ],
   "source": [
    "model.fit(X_train, y_train, epochs=35, callbacks=[tb_callback])"
   ]
  },
  {
   "cell_type": "code",
   "execution_count": 62,
   "metadata": {},
   "outputs": [],
   "source": [
    "res = model.predict(X_test)"
   ]
  },
  {
   "cell_type": "code",
   "execution_count": 63,
   "metadata": {},
   "outputs": [
    {
     "data": {
      "text/plain": [
       "'drone_stable'"
      ]
     },
     "execution_count": 63,
     "metadata": {},
     "output_type": "execute_result"
    }
   ],
   "source": [
    "actions[np.argmax(res[0])]"
   ]
  },
  {
   "cell_type": "code",
   "execution_count": 64,
   "metadata": {},
   "outputs": [
    {
     "data": {
      "text/plain": [
       "'drone_stable'"
      ]
     },
     "execution_count": 64,
     "metadata": {},
     "output_type": "execute_result"
    }
   ],
   "source": [
    "actions[np.argmax(y_test[0])]"
   ]
  },
  {
   "cell_type": "code",
   "execution_count": 65,
   "metadata": {},
   "outputs": [],
   "source": [
    "model.save('gestures1.h5')"
   ]
  },
  {
   "cell_type": "code",
   "execution_count": 66,
   "metadata": {},
   "outputs": [],
   "source": [
    "from scipy import stats"
   ]
  },
  {
   "cell_type": "code",
   "execution_count": 67,
   "metadata": {},
   "outputs": [],
   "source": [
    "colors = [(245,117,16), (117,245,16), (16,117,245)]\n",
    "def prob_viz(res, actions, input_frame, colors):\n",
    "    output_frame = input_frame.copy()\n",
    "    for num, prob in enumerate(res):\n",
    "        cv2.rectangle(output_frame, (0,60+num*40), (int(prob*100), 90+num*40), colors[num], -1)\n",
    "        cv2.putText(output_frame, actions[num], (0, 85+num*40), cv2.FONT_HERSHEY_SIMPLEX, 1, (255,255,255), 2, cv2.LINE_AA)\n",
    "        \n",
    "    return output_frame"
   ]
  },
  {
   "cell_type": "code",
   "execution_count": null,
   "metadata": {},
   "outputs": [],
   "source": []
  },
  {
   "cell_type": "code",
   "execution_count": 68,
   "metadata": {},
   "outputs": [
    {
     "name": "stdout",
     "output_type": "stream",
     "text": [
      "<class 'mediapipe.python.solution_base.SolutionOutputs'>\n",
      "<class 'mediapipe.python.solution_base.SolutionOutputs'>\n",
      "<class 'mediapipe.python.solution_base.SolutionOutputs'>\n",
      "<class 'mediapipe.python.solution_base.SolutionOutputs'>\n",
      "<class 'mediapipe.python.solution_base.SolutionOutputs'>\n",
      "<class 'mediapipe.python.solution_base.SolutionOutputs'>\n",
      "<class 'mediapipe.python.solution_base.SolutionOutputs'>\n",
      "<class 'mediapipe.python.solution_base.SolutionOutputs'>\n",
      "<class 'mediapipe.python.solution_base.SolutionOutputs'>\n",
      "<class 'mediapipe.python.solution_base.SolutionOutputs'>\n",
      "<class 'mediapipe.python.solution_base.SolutionOutputs'>\n",
      "<class 'mediapipe.python.solution_base.SolutionOutputs'>\n",
      "<class 'mediapipe.python.solution_base.SolutionOutputs'>\n",
      "<class 'mediapipe.python.solution_base.SolutionOutputs'>\n",
      "<class 'mediapipe.python.solution_base.SolutionOutputs'>\n",
      "<class 'mediapipe.python.solution_base.SolutionOutputs'>\n",
      "<class 'mediapipe.python.solution_base.SolutionOutputs'>\n",
      "<class 'mediapipe.python.solution_base.SolutionOutputs'>\n",
      "<class 'mediapipe.python.solution_base.SolutionOutputs'>\n",
      "<class 'mediapipe.python.solution_base.SolutionOutputs'>\n",
      "<class 'mediapipe.python.solution_base.SolutionOutputs'>\n",
      "<class 'mediapipe.python.solution_base.SolutionOutputs'>\n",
      "<class 'mediapipe.python.solution_base.SolutionOutputs'>\n",
      "<class 'mediapipe.python.solution_base.SolutionOutputs'>\n",
      "<class 'mediapipe.python.solution_base.SolutionOutputs'>\n",
      "<class 'mediapipe.python.solution_base.SolutionOutputs'>\n",
      "<class 'mediapipe.python.solution_base.SolutionOutputs'>\n",
      "<class 'mediapipe.python.solution_base.SolutionOutputs'>\n",
      "<class 'mediapipe.python.solution_base.SolutionOutputs'>\n",
      "<class 'mediapipe.python.solution_base.SolutionOutputs'>\n",
      "drone_left\n",
      "<class 'mediapipe.python.solution_base.SolutionOutputs'>\n",
      "drone_left\n",
      "<class 'mediapipe.python.solution_base.SolutionOutputs'>\n",
      "drone_left\n",
      "<class 'mediapipe.python.solution_base.SolutionOutputs'>\n",
      "drone_left\n",
      "<class 'mediapipe.python.solution_base.SolutionOutputs'>\n",
      "drone_left\n",
      "<class 'mediapipe.python.solution_base.SolutionOutputs'>\n",
      "drone_left\n",
      "<class 'mediapipe.python.solution_base.SolutionOutputs'>\n",
      "drone_left\n",
      "<class 'mediapipe.python.solution_base.SolutionOutputs'>\n",
      "drone_left\n",
      "<class 'mediapipe.python.solution_base.SolutionOutputs'>\n",
      "drone_left\n",
      "<class 'mediapipe.python.solution_base.SolutionOutputs'>\n",
      "drone_left\n",
      "<class 'mediapipe.python.solution_base.SolutionOutputs'>\n",
      "drone_left\n",
      "<class 'mediapipe.python.solution_base.SolutionOutputs'>\n",
      "drone_left\n",
      "<class 'mediapipe.python.solution_base.SolutionOutputs'>\n",
      "drone_left\n",
      "<class 'mediapipe.python.solution_base.SolutionOutputs'>\n",
      "drone_left\n",
      "<class 'mediapipe.python.solution_base.SolutionOutputs'>\n",
      "drone_left\n",
      "<class 'mediapipe.python.solution_base.SolutionOutputs'>\n",
      "drone_left\n",
      "<class 'mediapipe.python.solution_base.SolutionOutputs'>\n",
      "drone_left\n",
      "<class 'mediapipe.python.solution_base.SolutionOutputs'>\n",
      "drone_left\n",
      "<class 'mediapipe.python.solution_base.SolutionOutputs'>\n",
      "drone_left\n",
      "<class 'mediapipe.python.solution_base.SolutionOutputs'>\n",
      "drone_left\n",
      "<class 'mediapipe.python.solution_base.SolutionOutputs'>\n",
      "drone_left\n",
      "<class 'mediapipe.python.solution_base.SolutionOutputs'>\n",
      "drone_left\n",
      "<class 'mediapipe.python.solution_base.SolutionOutputs'>\n",
      "drone_left\n",
      "<class 'mediapipe.python.solution_base.SolutionOutputs'>\n",
      "drone_left\n",
      "<class 'mediapipe.python.solution_base.SolutionOutputs'>\n",
      "drone_left\n",
      "<class 'mediapipe.python.solution_base.SolutionOutputs'>\n",
      "drone_left\n",
      "<class 'mediapipe.python.solution_base.SolutionOutputs'>\n",
      "drone_left\n",
      "<class 'mediapipe.python.solution_base.SolutionOutputs'>\n",
      "drone_left\n",
      "<class 'mediapipe.python.solution_base.SolutionOutputs'>\n",
      "drone_left\n",
      "<class 'mediapipe.python.solution_base.SolutionOutputs'>\n",
      "drone_left\n",
      "<class 'mediapipe.python.solution_base.SolutionOutputs'>\n",
      "drone_left\n",
      "<class 'mediapipe.python.solution_base.SolutionOutputs'>\n",
      "drone_left\n",
      "<class 'mediapipe.python.solution_base.SolutionOutputs'>\n",
      "drone_left\n",
      "<class 'mediapipe.python.solution_base.SolutionOutputs'>\n",
      "drone_left\n",
      "<class 'mediapipe.python.solution_base.SolutionOutputs'>\n",
      "drone_left\n",
      "<class 'mediapipe.python.solution_base.SolutionOutputs'>\n",
      "drone_left\n",
      "<class 'mediapipe.python.solution_base.SolutionOutputs'>\n",
      "drone_left\n",
      "<class 'mediapipe.python.solution_base.SolutionOutputs'>\n",
      "drone_left\n",
      "<class 'mediapipe.python.solution_base.SolutionOutputs'>\n",
      "drone_left\n",
      "<class 'mediapipe.python.solution_base.SolutionOutputs'>\n",
      "drone_left\n",
      "<class 'mediapipe.python.solution_base.SolutionOutputs'>\n",
      "drone_stable\n",
      "<class 'mediapipe.python.solution_base.SolutionOutputs'>\n",
      "drone_right\n",
      "<class 'mediapipe.python.solution_base.SolutionOutputs'>\n",
      "drone_right\n",
      "<class 'mediapipe.python.solution_base.SolutionOutputs'>\n",
      "drone_right\n",
      "<class 'mediapipe.python.solution_base.SolutionOutputs'>\n",
      "drone_right\n",
      "<class 'mediapipe.python.solution_base.SolutionOutputs'>\n",
      "drone_right\n",
      "<class 'mediapipe.python.solution_base.SolutionOutputs'>\n",
      "drone_right\n",
      "<class 'mediapipe.python.solution_base.SolutionOutputs'>\n",
      "drone_right\n",
      "<class 'mediapipe.python.solution_base.SolutionOutputs'>\n",
      "drone_right\n",
      "<class 'mediapipe.python.solution_base.SolutionOutputs'>\n",
      "drone_right\n",
      "<class 'mediapipe.python.solution_base.SolutionOutputs'>\n",
      "drone_right\n",
      "<class 'mediapipe.python.solution_base.SolutionOutputs'>\n",
      "drone_right\n",
      "<class 'mediapipe.python.solution_base.SolutionOutputs'>\n",
      "drone_right\n",
      "<class 'mediapipe.python.solution_base.SolutionOutputs'>\n",
      "drone_right\n",
      "<class 'mediapipe.python.solution_base.SolutionOutputs'>\n",
      "drone_right\n",
      "<class 'mediapipe.python.solution_base.SolutionOutputs'>\n",
      "drone_right\n",
      "<class 'mediapipe.python.solution_base.SolutionOutputs'>\n",
      "drone_right\n",
      "<class 'mediapipe.python.solution_base.SolutionOutputs'>\n",
      "drone_right\n",
      "<class 'mediapipe.python.solution_base.SolutionOutputs'>\n",
      "drone_right\n",
      "<class 'mediapipe.python.solution_base.SolutionOutputs'>\n",
      "drone_right\n",
      "<class 'mediapipe.python.solution_base.SolutionOutputs'>\n",
      "drone_right\n",
      "<class 'mediapipe.python.solution_base.SolutionOutputs'>\n",
      "drone_right\n",
      "<class 'mediapipe.python.solution_base.SolutionOutputs'>\n",
      "drone_right\n",
      "<class 'mediapipe.python.solution_base.SolutionOutputs'>\n",
      "drone_right\n",
      "<class 'mediapipe.python.solution_base.SolutionOutputs'>\n",
      "drone_right\n",
      "<class 'mediapipe.python.solution_base.SolutionOutputs'>\n",
      "drone_right\n",
      "<class 'mediapipe.python.solution_base.SolutionOutputs'>\n",
      "drone_right\n",
      "<class 'mediapipe.python.solution_base.SolutionOutputs'>\n",
      "drone_right\n",
      "<class 'mediapipe.python.solution_base.SolutionOutputs'>\n",
      "drone_right\n",
      "<class 'mediapipe.python.solution_base.SolutionOutputs'>\n",
      "drone_right\n",
      "<class 'mediapipe.python.solution_base.SolutionOutputs'>\n",
      "drone_right\n",
      "<class 'mediapipe.python.solution_base.SolutionOutputs'>\n",
      "drone_right\n",
      "<class 'mediapipe.python.solution_base.SolutionOutputs'>\n",
      "drone_right\n",
      "<class 'mediapipe.python.solution_base.SolutionOutputs'>\n",
      "drone_right\n",
      "<class 'mediapipe.python.solution_base.SolutionOutputs'>\n",
      "drone_right\n",
      "<class 'mediapipe.python.solution_base.SolutionOutputs'>\n",
      "drone_right\n",
      "<class 'mediapipe.python.solution_base.SolutionOutputs'>\n",
      "drone_right\n",
      "<class 'mediapipe.python.solution_base.SolutionOutputs'>\n",
      "drone_right\n",
      "<class 'mediapipe.python.solution_base.SolutionOutputs'>\n",
      "drone_right\n",
      "<class 'mediapipe.python.solution_base.SolutionOutputs'>\n",
      "drone_right\n",
      "<class 'mediapipe.python.solution_base.SolutionOutputs'>\n",
      "drone_right\n",
      "<class 'mediapipe.python.solution_base.SolutionOutputs'>\n",
      "drone_right\n",
      "<class 'mediapipe.python.solution_base.SolutionOutputs'>\n",
      "drone_right\n",
      "<class 'mediapipe.python.solution_base.SolutionOutputs'>\n",
      "drone_right\n",
      "<class 'mediapipe.python.solution_base.SolutionOutputs'>\n",
      "drone_right\n",
      "<class 'mediapipe.python.solution_base.SolutionOutputs'>\n",
      "drone_right\n",
      "<class 'mediapipe.python.solution_base.SolutionOutputs'>\n",
      "drone_right\n",
      "<class 'mediapipe.python.solution_base.SolutionOutputs'>\n",
      "drone_right\n",
      "<class 'mediapipe.python.solution_base.SolutionOutputs'>\n",
      "drone_right\n",
      "<class 'mediapipe.python.solution_base.SolutionOutputs'>\n",
      "drone_right\n",
      "<class 'mediapipe.python.solution_base.SolutionOutputs'>\n",
      "drone_right\n",
      "<class 'mediapipe.python.solution_base.SolutionOutputs'>\n",
      "drone_right\n",
      "<class 'mediapipe.python.solution_base.SolutionOutputs'>\n",
      "drone_right\n",
      "<class 'mediapipe.python.solution_base.SolutionOutputs'>\n",
      "drone_right\n",
      "<class 'mediapipe.python.solution_base.SolutionOutputs'>\n",
      "drone_right\n",
      "<class 'mediapipe.python.solution_base.SolutionOutputs'>\n",
      "drone_stable\n",
      "<class 'mediapipe.python.solution_base.SolutionOutputs'>\n",
      "drone_stable\n"
     ]
    },
    {
     "name": "stdout",
     "output_type": "stream",
     "text": [
      "<class 'mediapipe.python.solution_base.SolutionOutputs'>\n",
      "drone_left\n",
      "<class 'mediapipe.python.solution_base.SolutionOutputs'>\n",
      "drone_left\n",
      "<class 'mediapipe.python.solution_base.SolutionOutputs'>\n",
      "drone_left\n",
      "<class 'mediapipe.python.solution_base.SolutionOutputs'>\n",
      "drone_left\n",
      "<class 'mediapipe.python.solution_base.SolutionOutputs'>\n",
      "drone_left\n",
      "<class 'mediapipe.python.solution_base.SolutionOutputs'>\n",
      "drone_left\n",
      "<class 'mediapipe.python.solution_base.SolutionOutputs'>\n",
      "drone_left\n",
      "<class 'mediapipe.python.solution_base.SolutionOutputs'>\n",
      "drone_left\n",
      "<class 'mediapipe.python.solution_base.SolutionOutputs'>\n",
      "drone_left\n",
      "<class 'mediapipe.python.solution_base.SolutionOutputs'>\n",
      "drone_left\n",
      "<class 'mediapipe.python.solution_base.SolutionOutputs'>\n",
      "drone_left\n",
      "<class 'mediapipe.python.solution_base.SolutionOutputs'>\n",
      "drone_left\n",
      "<class 'mediapipe.python.solution_base.SolutionOutputs'>\n",
      "drone_left\n",
      "<class 'mediapipe.python.solution_base.SolutionOutputs'>\n",
      "drone_left\n",
      "<class 'mediapipe.python.solution_base.SolutionOutputs'>\n",
      "drone_left\n",
      "<class 'mediapipe.python.solution_base.SolutionOutputs'>\n",
      "drone_left\n",
      "<class 'mediapipe.python.solution_base.SolutionOutputs'>\n",
      "drone_left\n",
      "<class 'mediapipe.python.solution_base.SolutionOutputs'>\n",
      "drone_left\n",
      "<class 'mediapipe.python.solution_base.SolutionOutputs'>\n",
      "drone_left\n",
      "<class 'mediapipe.python.solution_base.SolutionOutputs'>\n",
      "drone_left\n",
      "<class 'mediapipe.python.solution_base.SolutionOutputs'>\n",
      "drone_left\n",
      "<class 'mediapipe.python.solution_base.SolutionOutputs'>\n",
      "drone_left\n",
      "<class 'mediapipe.python.solution_base.SolutionOutputs'>\n",
      "drone_left\n",
      "<class 'mediapipe.python.solution_base.SolutionOutputs'>\n",
      "drone_left\n",
      "<class 'mediapipe.python.solution_base.SolutionOutputs'>\n",
      "drone_left\n",
      "<class 'mediapipe.python.solution_base.SolutionOutputs'>\n",
      "drone_left\n",
      "<class 'mediapipe.python.solution_base.SolutionOutputs'>\n",
      "drone_left\n",
      "<class 'mediapipe.python.solution_base.SolutionOutputs'>\n",
      "drone_left\n",
      "<class 'mediapipe.python.solution_base.SolutionOutputs'>\n",
      "drone_left\n",
      "<class 'mediapipe.python.solution_base.SolutionOutputs'>\n",
      "drone_left\n",
      "<class 'mediapipe.python.solution_base.SolutionOutputs'>\n",
      "drone_left\n",
      "<class 'mediapipe.python.solution_base.SolutionOutputs'>\n",
      "drone_left\n",
      "<class 'mediapipe.python.solution_base.SolutionOutputs'>\n",
      "drone_left\n",
      "<class 'mediapipe.python.solution_base.SolutionOutputs'>\n",
      "drone_left\n",
      "<class 'mediapipe.python.solution_base.SolutionOutputs'>\n",
      "drone_left\n",
      "<class 'mediapipe.python.solution_base.SolutionOutputs'>\n",
      "drone_left\n",
      "<class 'mediapipe.python.solution_base.SolutionOutputs'>\n",
      "drone_stable\n",
      "<class 'mediapipe.python.solution_base.SolutionOutputs'>\n",
      "drone_stable\n",
      "<class 'mediapipe.python.solution_base.SolutionOutputs'>\n",
      "drone_stable\n",
      "<class 'mediapipe.python.solution_base.SolutionOutputs'>\n",
      "drone_stable\n",
      "<class 'mediapipe.python.solution_base.SolutionOutputs'>\n",
      "drone_stable\n",
      "<class 'mediapipe.python.solution_base.SolutionOutputs'>\n",
      "drone_stable\n",
      "<class 'mediapipe.python.solution_base.SolutionOutputs'>\n",
      "drone_stable\n",
      "<class 'mediapipe.python.solution_base.SolutionOutputs'>\n",
      "drone_stable\n",
      "<class 'mediapipe.python.solution_base.SolutionOutputs'>\n",
      "drone_stable\n",
      "<class 'mediapipe.python.solution_base.SolutionOutputs'>\n",
      "drone_stable\n",
      "<class 'mediapipe.python.solution_base.SolutionOutputs'>\n",
      "drone_stable\n",
      "<class 'mediapipe.python.solution_base.SolutionOutputs'>\n",
      "drone_stable\n",
      "<class 'mediapipe.python.solution_base.SolutionOutputs'>\n",
      "drone_stable\n",
      "<class 'mediapipe.python.solution_base.SolutionOutputs'>\n",
      "drone_stable\n",
      "<class 'mediapipe.python.solution_base.SolutionOutputs'>\n",
      "drone_stable\n",
      "<class 'mediapipe.python.solution_base.SolutionOutputs'>\n",
      "drone_stable\n",
      "<class 'mediapipe.python.solution_base.SolutionOutputs'>\n",
      "drone_stable\n",
      "<class 'mediapipe.python.solution_base.SolutionOutputs'>\n",
      "drone_stable\n",
      "<class 'mediapipe.python.solution_base.SolutionOutputs'>\n",
      "drone_stable\n",
      "<class 'mediapipe.python.solution_base.SolutionOutputs'>\n",
      "drone_stable\n",
      "<class 'mediapipe.python.solution_base.SolutionOutputs'>\n",
      "drone_stable\n",
      "<class 'mediapipe.python.solution_base.SolutionOutputs'>\n",
      "drone_stable\n",
      "<class 'mediapipe.python.solution_base.SolutionOutputs'>\n",
      "drone_stable\n",
      "<class 'mediapipe.python.solution_base.SolutionOutputs'>\n",
      "drone_stable\n",
      "<class 'mediapipe.python.solution_base.SolutionOutputs'>\n",
      "drone_stable\n",
      "<class 'mediapipe.python.solution_base.SolutionOutputs'>\n",
      "drone_right\n",
      "<class 'mediapipe.python.solution_base.SolutionOutputs'>\n",
      "drone_right\n",
      "<class 'mediapipe.python.solution_base.SolutionOutputs'>\n",
      "drone_right\n",
      "<class 'mediapipe.python.solution_base.SolutionOutputs'>\n",
      "drone_right\n",
      "<class 'mediapipe.python.solution_base.SolutionOutputs'>\n",
      "drone_right\n",
      "<class 'mediapipe.python.solution_base.SolutionOutputs'>\n",
      "drone_right\n",
      "<class 'mediapipe.python.solution_base.SolutionOutputs'>\n",
      "drone_right\n",
      "<class 'mediapipe.python.solution_base.SolutionOutputs'>\n",
      "drone_right\n",
      "<class 'mediapipe.python.solution_base.SolutionOutputs'>\n",
      "drone_right\n",
      "<class 'mediapipe.python.solution_base.SolutionOutputs'>\n",
      "drone_right\n",
      "<class 'mediapipe.python.solution_base.SolutionOutputs'>\n",
      "drone_right\n",
      "<class 'mediapipe.python.solution_base.SolutionOutputs'>\n",
      "drone_right\n",
      "<class 'mediapipe.python.solution_base.SolutionOutputs'>\n",
      "drone_right\n",
      "<class 'mediapipe.python.solution_base.SolutionOutputs'>\n",
      "drone_right\n",
      "<class 'mediapipe.python.solution_base.SolutionOutputs'>\n",
      "drone_right\n",
      "<class 'mediapipe.python.solution_base.SolutionOutputs'>\n",
      "drone_right\n",
      "<class 'mediapipe.python.solution_base.SolutionOutputs'>\n",
      "drone_right\n",
      "<class 'mediapipe.python.solution_base.SolutionOutputs'>\n",
      "drone_right\n",
      "<class 'mediapipe.python.solution_base.SolutionOutputs'>\n",
      "drone_right\n",
      "<class 'mediapipe.python.solution_base.SolutionOutputs'>\n",
      "drone_right\n",
      "<class 'mediapipe.python.solution_base.SolutionOutputs'>\n",
      "drone_right\n",
      "<class 'mediapipe.python.solution_base.SolutionOutputs'>\n",
      "drone_right\n",
      "<class 'mediapipe.python.solution_base.SolutionOutputs'>\n",
      "drone_right\n",
      "<class 'mediapipe.python.solution_base.SolutionOutputs'>\n",
      "drone_right\n",
      "<class 'mediapipe.python.solution_base.SolutionOutputs'>\n",
      "drone_right\n",
      "<class 'mediapipe.python.solution_base.SolutionOutputs'>\n",
      "drone_right\n",
      "<class 'mediapipe.python.solution_base.SolutionOutputs'>\n",
      "drone_right\n",
      "<class 'mediapipe.python.solution_base.SolutionOutputs'>\n",
      "drone_right\n",
      "<class 'mediapipe.python.solution_base.SolutionOutputs'>\n",
      "drone_right\n",
      "<class 'mediapipe.python.solution_base.SolutionOutputs'>\n",
      "drone_right\n",
      "<class 'mediapipe.python.solution_base.SolutionOutputs'>\n",
      "drone_right\n",
      "<class 'mediapipe.python.solution_base.SolutionOutputs'>\n",
      "drone_right\n",
      "<class 'mediapipe.python.solution_base.SolutionOutputs'>\n",
      "drone_right\n",
      "<class 'mediapipe.python.solution_base.SolutionOutputs'>\n",
      "drone_right\n",
      "<class 'mediapipe.python.solution_base.SolutionOutputs'>\n",
      "drone_right\n",
      "<class 'mediapipe.python.solution_base.SolutionOutputs'>\n",
      "drone_right\n",
      "<class 'mediapipe.python.solution_base.SolutionOutputs'>\n",
      "drone_right\n",
      "<class 'mediapipe.python.solution_base.SolutionOutputs'>\n",
      "drone_right\n",
      "<class 'mediapipe.python.solution_base.SolutionOutputs'>\n",
      "drone_right\n",
      "<class 'mediapipe.python.solution_base.SolutionOutputs'>\n",
      "drone_right\n",
      "<class 'mediapipe.python.solution_base.SolutionOutputs'>\n",
      "drone_right\n",
      "<class 'mediapipe.python.solution_base.SolutionOutputs'>\n",
      "drone_right\n",
      "<class 'mediapipe.python.solution_base.SolutionOutputs'>\n",
      "drone_right\n",
      "<class 'mediapipe.python.solution_base.SolutionOutputs'>\n",
      "drone_right\n",
      "<class 'mediapipe.python.solution_base.SolutionOutputs'>\n",
      "drone_right\n",
      "<class 'mediapipe.python.solution_base.SolutionOutputs'>\n",
      "drone_right\n",
      "<class 'mediapipe.python.solution_base.SolutionOutputs'>\n",
      "drone_right\n",
      "<class 'mediapipe.python.solution_base.SolutionOutputs'>\n",
      "drone_right\n",
      "<class 'mediapipe.python.solution_base.SolutionOutputs'>\n",
      "drone_right\n",
      "<class 'mediapipe.python.solution_base.SolutionOutputs'>\n",
      "drone_right\n",
      "<class 'mediapipe.python.solution_base.SolutionOutputs'>\n",
      "drone_right\n",
      "<class 'mediapipe.python.solution_base.SolutionOutputs'>\n",
      "drone_right\n",
      "<class 'mediapipe.python.solution_base.SolutionOutputs'>\n",
      "drone_right\n",
      "<class 'mediapipe.python.solution_base.SolutionOutputs'>\n",
      "drone_right\n",
      "<class 'mediapipe.python.solution_base.SolutionOutputs'>\n",
      "drone_right\n",
      "<class 'mediapipe.python.solution_base.SolutionOutputs'>\n",
      "drone_right\n",
      "<class 'mediapipe.python.solution_base.SolutionOutputs'>\n",
      "drone_right\n",
      "<class 'mediapipe.python.solution_base.SolutionOutputs'>\n",
      "drone_right\n"
     ]
    }
   ],
   "source": [
    "# 1. New detection variables\n",
    "sequence = []\n",
    "sentence = []\n",
    "predictions = []\n",
    "threshold = 0.5\n",
    "\n",
    "cap = cv2.VideoCapture(0)\n",
    "# Set mediapipe model \n",
    "with mp_holistic.Holistic(min_detection_confidence=0.5, min_tracking_confidence=0.5) as holistic:\n",
    "    while cap.isOpened():\n",
    "\n",
    "        # Read feed\n",
    "        ret, frame = cap.read()\n",
    "\n",
    "        # Make detections\n",
    "        image, results = mediapipe_detection(frame, holistic)\n",
    "        print(results)\n",
    "        \n",
    "        # Draw landmarks\n",
    "        draw_styled_landmarks(image, results)\n",
    "        \n",
    "        # 2. Prediction logic\n",
    "        keypoints = extract_keypoints(results)\n",
    "        sequence.append(keypoints)\n",
    "        sequence = sequence[-30:]\n",
    "        \n",
    "        if len(sequence) == 30:\n",
    "            res = model.predict(np.expand_dims(sequence, axis=0))[0]\n",
    "            print(actions[np.argmax(res)])\n",
    "            predictions.append(np.argmax(res))\n",
    "            \n",
    "            \n",
    "        #3. Viz logic\n",
    "            if np.unique(predictions[-10:])[0]==np.argmax(res): \n",
    "                if res[np.argmax(res)] > threshold: \n",
    "                    \n",
    "                    if len(sentence) > 0: \n",
    "                        if actions[np.argmax(res)] != sentence[-1]:\n",
    "                            sentence.append(actions[np.argmax(res)])\n",
    "                    else:\n",
    "                        sentence.append(actions[np.argmax(res)])\n",
    "\n",
    "            if len(sentence) > 5: \n",
    "                sentence = sentence[-5:]\n",
    "\n",
    "            # Viz probabilities\n",
    "            image = prob_viz(res, actions, image, colors)\n",
    "            \n",
    "        cv2.rectangle(image, (0,0), (640, 40), (245, 117, 16), -1)\n",
    "        cv2.putText(image, ' '.join(sentence), (3,30), \n",
    "                       cv2.FONT_HERSHEY_SIMPLEX, 1, (255, 255, 255), 2, cv2.LINE_AA)\n",
    "        \n",
    "        # Show to screen\n",
    "        cv2.imshow('OpenCV Feed', image)\n",
    "\n",
    "        # Break gracefully\n",
    "        if cv2.waitKey(10) & 0xFF == ord('q'):\n",
    "            break\n",
    "    cap.release()\n",
    "    cv2.destroyAllWindows()"
   ]
  },
  {
   "cell_type": "code",
   "execution_count": 69,
   "metadata": {},
   "outputs": [],
   "source": [
    "from sklearn.metrics import multilabel_confusion_matrix, accuracy_score"
   ]
  },
  {
   "cell_type": "code",
   "execution_count": 70,
   "metadata": {},
   "outputs": [],
   "source": [
    "yhat = model.predict(X_test)"
   ]
  },
  {
   "cell_type": "code",
   "execution_count": 71,
   "metadata": {},
   "outputs": [],
   "source": [
    "ytrue = np.argmax(y_test, axis=1).tolist()\n",
    "yhat = np.argmax(yhat, axis=1).tolist()"
   ]
  },
  {
   "cell_type": "code",
   "execution_count": 72,
   "metadata": {},
   "outputs": [
    {
     "data": {
      "text/plain": [
       "array([[[2, 0],\n",
       "        [1, 2]],\n",
       "\n",
       "       [[2, 1],\n",
       "        [0, 2]]], dtype=int64)"
      ]
     },
     "execution_count": 72,
     "metadata": {},
     "output_type": "execute_result"
    }
   ],
   "source": [
    "multilabel_confusion_matrix(ytrue, yhat)"
   ]
  },
  {
   "cell_type": "code",
   "execution_count": 73,
   "metadata": {},
   "outputs": [
    {
     "data": {
      "text/plain": [
       "0.8"
      ]
     },
     "execution_count": 73,
     "metadata": {},
     "output_type": "execute_result"
    }
   ],
   "source": [
    "accuracy_score(ytrue, yhat)"
   ]
  },
  {
   "cell_type": "code",
   "execution_count": null,
   "metadata": {},
   "outputs": [],
   "source": []
  }
 ],
 "metadata": {
  "kernelspec": {
   "display_name": "Python 3",
   "language": "python",
   "name": "python3"
  },
  "language_info": {
   "codemirror_mode": {
    "name": "ipython",
    "version": 3
   },
   "file_extension": ".py",
   "mimetype": "text/x-python",
   "name": "python",
   "nbconvert_exporter": "python",
   "pygments_lexer": "ipython3",
   "version": "3.8.3"
  }
 },
 "nbformat": 4,
 "nbformat_minor": 4
}
